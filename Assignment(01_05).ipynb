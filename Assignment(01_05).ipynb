{
  "nbformat": 4,
  "nbformat_minor": 0,
  "metadata": {
    "colab": {
      "name": "Assignment(01.05).ipynb",
      "provenance": [],
      "collapsed_sections": [],
      "authorship_tag": "ABX9TyM55iC87+czHkQCru5La/2G",
      "include_colab_link": true
    },
    "kernelspec": {
      "name": "python3",
      "display_name": "Python 3"
    },
    "language_info": {
      "name": "python"
    }
  },
  "cells": [
    {
      "cell_type": "markdown",
      "metadata": {
        "id": "view-in-github",
        "colab_type": "text"
      },
      "source": [
        "<a href=\"https://colab.research.google.com/github/redun1/MicroCDA/blob/main/Assignment(01_05).ipynb\" target=\"_parent\"><img src=\"https://colab.research.google.com/assets/colab-badge.svg\" alt=\"Open In Colab\"/></a>"
      ]
    },
    {
      "cell_type": "markdown",
      "source": [
        "#LOOPING"
      ],
      "metadata": {
        "id": "qdEH5_IcYHgb"
      }
    },
    {
      "cell_type": "code",
      "source": [
        "#Create a list that holds 5 data variables\n",
        "var=['apple','zy','hello','what','sky']"
      ],
      "metadata": {
        "id": "5DAQyUWraBlq"
      },
      "execution_count": 5,
      "outputs": []
    },
    {
      "cell_type": "code",
      "source": [
        "#Print out those variables by using a for loop\n",
        "for i in var:\n",
        "  print(i)"
      ],
      "metadata": {
        "colab": {
          "base_uri": "https://localhost:8080/"
        },
        "id": "WndKwJhCaDVm",
        "outputId": "f3489d4a-8f5c-472d-a8cd-2ca5184818cb"
      },
      "execution_count": 6,
      "outputs": [
        {
          "output_type": "stream",
          "name": "stdout",
          "text": [
            "apple\n",
            "zy\n",
            "hello\n",
            "what\n",
            "sky\n"
          ]
        }
      ]
    },
    {
      "cell_type": "code",
      "source": [
        "#Modify your loop to add a message to your for loop\n",
        "for i in var:\n",
        "  print(i, ': Yet another item in the list!')"
      ],
      "metadata": {
        "colab": {
          "base_uri": "https://localhost:8080/"
        },
        "id": "RJSh3rODaDcf",
        "outputId": "550aa319-d0ef-409b-feb5-99cf4b1cd347"
      },
      "execution_count": 10,
      "outputs": [
        {
          "output_type": "stream",
          "name": "stdout",
          "text": [
            "apple : Yet another item in the list!\n",
            "zy : Yet another item in the list!\n",
            "hello : Yet another item in the list!\n",
            "what : Yet another item in the list!\n",
            "sky : Yet another item in the list!\n"
          ]
        }
      ]
    },
    {
      "cell_type": "code",
      "source": [
        "#Use a for loop to print even numbers from 1-20\n",
        "for i in range(1, 21):\n",
        "  if i%2 ==0:\n",
        "    print(i)"
      ],
      "metadata": {
        "colab": {
          "base_uri": "https://localhost:8080/"
        },
        "id": "UMlx6ItyaDia",
        "outputId": "ec1a6a1e-5be7-44b7-83be-809c56b88eda"
      },
      "execution_count": 11,
      "outputs": [
        {
          "output_type": "stream",
          "name": "stdout",
          "text": [
            "2\n",
            "4\n",
            "6\n",
            "8\n",
            "10\n",
            "12\n",
            "14\n",
            "16\n",
            "18\n",
            "20\n"
          ]
        }
      ]
    },
    {
      "cell_type": "code",
      "source": [
        "#Sort your list in alphabetic order\n",
        "for i in sorted(var):\n",
        "  print(i)"
      ],
      "metadata": {
        "colab": {
          "base_uri": "https://localhost:8080/"
        },
        "id": "Gf5uzn3vaDnV",
        "outputId": "418e234f-c475-4c9b-afd5-0f5b1d5bf065"
      },
      "execution_count": 12,
      "outputs": [
        {
          "output_type": "stream",
          "name": "stdout",
          "text": [
            "apple\n",
            "hello\n",
            "sky\n",
            "what\n",
            "zy\n"
          ]
        }
      ]
    },
    {
      "cell_type": "code",
      "source": [
        "#Print out the first three elements of your list\n",
        "print(var[0:3])"
      ],
      "metadata": {
        "colab": {
          "base_uri": "https://localhost:8080/"
        },
        "id": "4r-qy0D1aDr1",
        "outputId": "ee6c56d4-7549-48f6-8a05-bf436e1e3c5f"
      },
      "execution_count": 15,
      "outputs": [
        {
          "output_type": "stream",
          "name": "stdout",
          "text": [
            "['apple', 'zy', 'hello']\n"
          ]
        }
      ]
    },
    {
      "cell_type": "code",
      "source": [
        "#Create a loop to print the last 2 elements of your list\n",
        "\n",
        "for i in var[3::]:\n",
        "  print(i)\n",
        "\n",
        "\n",
        " "
      ],
      "metadata": {
        "colab": {
          "base_uri": "https://localhost:8080/"
        },
        "id": "Kat4Z_38bZYd",
        "outputId": "74f290b2-3ce1-4908-dce5-8a4c63aafa8d"
      },
      "execution_count": 110,
      "outputs": [
        {
          "output_type": "stream",
          "name": "stdout",
          "text": [
            "what\n",
            "sky\n"
          ]
        }
      ]
    },
    {
      "cell_type": "markdown",
      "source": [
        "#DICTIONARIES"
      ],
      "metadata": {
        "id": "XkjvLV6paDvf"
      }
    },
    {
      "cell_type": "code",
      "source": [
        "#Create a simple dictionary that 2 variables\n",
        "sample= {'Bob', 'Phil'}"
      ],
      "metadata": {
        "id": "-OJBZSkieWA0"
      },
      "execution_count": 31,
      "outputs": []
    },
    {
      "cell_type": "code",
      "source": [
        "#Print out those variables stored in your previous dictionary\n",
        "for k in sample:\n",
        "  print(k)\n"
      ],
      "metadata": {
        "colab": {
          "base_uri": "https://localhost:8080/"
        },
        "id": "VURuE98PeV3I",
        "outputId": "14fadb6a-3669-4bf4-f8bc-8e94c40e3419"
      },
      "execution_count": 32,
      "outputs": [
        {
          "output_type": "stream",
          "name": "stdout",
          "text": [
            "Bob\n",
            "Phil\n"
          ]
        }
      ]
    },
    {
      "cell_type": "code",
      "source": [
        "#Add a message to those variables on printing\n",
        "for k in sample:\n",
        "  print('Hello ' + k)"
      ],
      "metadata": {
        "colab": {
          "base_uri": "https://localhost:8080/"
        },
        "id": "RRyPE9kXeVkZ",
        "outputId": "3b0c4508-7138-45f2-f440-08b38204ae02"
      },
      "execution_count": 33,
      "outputs": [
        {
          "output_type": "stream",
          "name": "stdout",
          "text": [
            "Hello Bob\n",
            "Hello Phil\n"
          ]
        }
      ]
    },
    {
      "cell_type": "code",
      "source": [
        "#Create a dictionary that holds 2 key:value pairs\n",
        "  ##Look through your dicitonary and print each pair\n",
        "sample= {'firstName': 'Alex', 'lastName':'Deen'}\n",
        "\n",
        "for k,v in sample.items():\n",
        "  print('Key: ' + k)\n",
        "  print('Value: ' + v)"
      ],
      "metadata": {
        "colab": {
          "base_uri": "https://localhost:8080/"
        },
        "id": "xo6cRtRqcLdz",
        "outputId": "5d399593-3550-4bea-a69a-5406267db659"
      },
      "execution_count": 37,
      "outputs": [
        {
          "output_type": "stream",
          "name": "stdout",
          "text": [
            "Key: firstName\n",
            "Value: Alex\n",
            "Key: lastName\n",
            "Value: Deen\n"
          ]
        }
      ]
    },
    {
      "cell_type": "code",
      "source": [
        "#Create a nested dictionary containing three dictionaries\n",
        "a={'animals': {'pet': 'dog', 'size': 'small'},\n",
        "          'location': {'city':'queens', 'state': 'NY'},\n",
        "          'food': {'fruit':'apple', 'measurement': 'ounces'}}"
      ],
      "metadata": {
        "id": "NlfYcp6NcX68"
      },
      "execution_count": 84,
      "outputs": []
    },
    {
      "cell_type": "code",
      "source": [
        "##Loop through the dictionaries and print a message for each\n",
        "\n",
        "for i in a.keys():\n",
        "  print('This is one of the dictionaries called: ', i)\n",
        "  for z in a[i].keys():\n",
        "    print(z)\n"
      ],
      "metadata": {
        "colab": {
          "base_uri": "https://localhost:8080/"
        },
        "id": "hWG5caO7dzrT",
        "outputId": "51f8bdc1-9f8d-40a2-ff42-34dd38488982"
      },
      "execution_count": 85,
      "outputs": [
        {
          "output_type": "stream",
          "name": "stdout",
          "text": [
            "This is one of the dictionaries called:  animals\n",
            "pet\n",
            "size\n",
            "This is one of the dictionaries called:  location\n",
            "city\n",
            "state\n",
            "This is one of the dictionaries called:  food\n",
            "fruit\n",
            "measurement\n"
          ]
        }
      ]
    }
  ]
}