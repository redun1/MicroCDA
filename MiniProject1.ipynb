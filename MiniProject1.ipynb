{
  "nbformat": 4,
  "nbformat_minor": 0,
  "metadata": {
    "colab": {
      "name": "MiniProject1.ipynb",
      "provenance": [],
      "collapsed_sections": [],
      "authorship_tag": "ABX9TyOOogVzvUrpUNiytFJx/4sW",
      "include_colab_link": true
    },
    "kernelspec": {
      "name": "python3",
      "display_name": "Python 3"
    },
    "language_info": {
      "name": "python"
    }
  },
  "cells": [
    {
      "cell_type": "markdown",
      "metadata": {
        "id": "view-in-github",
        "colab_type": "text"
      },
      "source": [
        "<a href=\"https://colab.research.google.com/github/redun1/MicroCDA/blob/main/MiniProject1.ipynb\" target=\"_parent\"><img src=\"https://colab.research.google.com/assets/colab-badge.svg\" alt=\"Open In Colab\"/></a>"
      ]
    },
    {
      "cell_type": "markdown",
      "source": [
        "#Mini Project 1\n",
        "###Afsana Siddika"
      ],
      "metadata": {
        "id": "15ppxsW5qmnG"
      }
    },
    {
      "cell_type": "code",
      "source": [
        "#Ask the user for a number. Depending on whether the number is even or odd, print out an appropriate message to the user.\n",
        "#Also tackles one of the bonus add-ons: If the number is a multiple of 4, print out a different message\n",
        "\n",
        "def evenOrOdd ():\n",
        "  userNum=int(input('Please enter an integer: '))\n",
        "\n",
        "  #checks to see if userNum is divisible by 2\n",
        "  if userNum%2==0:\n",
        "    print(f'The number {userNum} is even!')\n",
        "\n",
        "    #if the number is divisible by 2, it could also be divisible by 4, so we check here with an added if statement\n",
        "    if userNum%4==0:\n",
        "        print(f'The number {userNum} is also divisible by 4!')\n",
        "\n",
        "  #as soon as userNum is determined to not be divisible by 2, the number is odd\n",
        "  else:\n",
        "    print(f'The number {userNum} is odd!')"
      ],
      "metadata": {
        "id": "5QVplXJ2qyNQ"
      },
      "execution_count": 12,
      "outputs": []
    },
    {
      "cell_type": "code",
      "source": [
        "evenOrOdd()"
      ],
      "metadata": {
        "colab": {
          "base_uri": "https://localhost:8080/"
        },
        "id": "o3_mBixerRY4",
        "outputId": "6689a25a-6d68-4774-c61a-066e1884595a"
      },
      "execution_count": 18,
      "outputs": [
        {
          "output_type": "stream",
          "name": "stdout",
          "text": [
            "Please enter an integer: 16\n",
            "The number 16 is even!\n",
            "The number 16 is also divisible by 4!\n"
          ]
        }
      ]
    },
    {
      "cell_type": "markdown",
      "source": [
        "#Mini Project 2 (Bonus)"
      ],
      "metadata": {
        "id": "3gtcJ0lLsAPu"
      }
    },
    {
      "cell_type": "code",
      "source": [
        "#Ask the user for two numbers: one number to check (call it num) and one number to divide by (check). \n",
        "#If check divides evenly into num, tell that to the user. If not, print a different appropriate message\n",
        "\n",
        "def numCheck():\n",
        "\n",
        "  #asks for user input for two variables\n",
        "  num=int(input('Give me a number: '))\n",
        "  check=int(input(f'Give me another number to divide {num} by: '))\n",
        "\n",
        "  #if there is no remainder after dividing (num) by (check), then the latter divides evenly to the former\n",
        "  if num % check == 0:\n",
        "    print(f'{check} divides evenly into {num}!')\n",
        "\n",
        "  #outputs that (check) didn't divide evenly to (num)\n",
        "  else:\n",
        "    print(f'{check} does not divide evenly into {num}!')\n",
        "\n",
        "\n"
      ],
      "metadata": {
        "id": "vajuuiUTZJQ_"
      },
      "execution_count": 24,
      "outputs": []
    },
    {
      "cell_type": "code",
      "source": [
        "numCheck()"
      ],
      "metadata": {
        "colab": {
          "base_uri": "https://localhost:8080/"
        },
        "id": "Jatzdsq3aQcf",
        "outputId": "51579408-009f-46fe-da9c-5f2e31abecca"
      },
      "execution_count": 26,
      "outputs": [
        {
          "output_type": "stream",
          "name": "stdout",
          "text": [
            "Give me a number: 100\n",
            "Give me another number to divide 100 by: 19\n",
            "19 does not divide evenly into 100!\n"
          ]
        }
      ]
    }
  ]
}